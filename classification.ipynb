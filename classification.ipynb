{
 "cells": [
  {
   "cell_type": "code",
   "execution_count": 1,
   "metadata": {},
   "outputs": [],
   "source": [
    "import pandas as pd\n",
    "from sklearn.naive_bayes import GaussianNB\n",
    "from sklearn.ensemble import RandomForestClassifier\n",
    "from sklearn.svm import SVC\n",
    "from sklearn.linear_model import LogisticRegression\n",
    "from sklearn.model_selection import train_test_split\n",
    "from sklearn.metrics import accuracy_score, precision_score\n",
    "from sklearn.impute import SimpleImputer"
   ]
  },
  {
   "cell_type": "code",
   "execution_count": 2,
   "metadata": {},
   "outputs": [],
   "source": [
    "def apply_algorithms(X, y):\n",
    "    X_train, X_test, y_train, y_test = train_test_split(X, y, test_size=0.2, random_state=42)\n",
    "    \n",
    "    imputer = SimpleImputer(strategy='mean')\n",
    "    X_train = imputer.fit_transform(X_train)\n",
    "    X_test = imputer.transform(X_test)\n",
    "\n",
    "    models = {\n",
    "        'Naive Bayes': GaussianNB(),\n",
    "        'Random Forest': RandomForestClassifier(n_estimators=100, max_depth=10),\n",
    "        'SVM': SVC(kernel='sigmoid'),\n",
    "        'Logistic Regression': LogisticRegression()\n",
    "    }\n",
    "\n",
    "    results = {}\n",
    "\n",
    "    for name, model in models.items():\n",
    "        model.fit(X_train, y_train)\n",
    "        y_pred = model.predict(X_test)\n",
    "        accuracy = accuracy_score(y_test, y_pred)\n",
    "        precision = precision_score(y_test, y_pred, average='weighted')\n",
    "        results[name] = {'Accuracy': accuracy, 'Precision': precision}\n",
    "\n",
    "    return results"
   ]
  },
  {
   "cell_type": "code",
   "execution_count": 3,
   "metadata": {},
   "outputs": [
    {
     "name": "stdout",
     "output_type": "stream",
     "text": [
      "\n",
      "Results for Rice Variety Dataset:\n",
      "Naive Bayes:\n",
      "  Accuracy: 0.9147\n",
      "  Precision: 0.9148\n",
      "Random Forest:\n",
      "  Accuracy: 0.9239\n",
      "  Precision: 0.9239\n",
      "SVM:\n",
      "  Accuracy: 0.1942\n",
      "  Precision: 0.1789\n",
      "Logistic Regression:\n",
      "  Accuracy: 0.9291\n",
      "  Precision: 0.9291\n",
      "\n",
      "Best model for Rice Variety Dataset: Logistic Regression (Accuracy: 0.9291)\n"
     ]
    }
   ],
   "source": [
    "\n",
    "rice_data = pd.read_csv('rice_dataset.csv')\n",
    "X_rice = rice_data.drop(' Class', axis=1)\n",
    "y_rice = rice_data[' Class']\n",
    "rice_results = apply_algorithms(X_rice, y_rice)\n",
    "\n",
    "# salary_data = pd.read_csv('adult.csv')\n",
    "# X_salary = salary_data[['age', 'education-num', 'capital-gain', 'capital-loss', 'hours-per-week']]\n",
    "# y_salary = salary_data['income']\n",
    "# salary_results = apply_algorithms(X_salary, y_salary)\n",
    "\n",
    "# heart_data = pd.read_csv('echocardiogram.csv')\n",
    "# X_heart = heart_data[['age-at-heart-attack', 'fractional-shortening', 'epss', 'lvdd', 'wall-motion-score', 'wall-motion-index']]\n",
    "# y_heart = heart_data['alive-at-1']\n",
    "# heart_results = apply_algorithms(X_heart, y_heart)\n",
    "\n",
    "for dataset, results in zip(['Rice Variety'], [rice_results]):\n",
    "    print(f\"\\nResults for {dataset} Dataset:\")\n",
    "    for model, metrics in results.items():\n",
    "        print(f\"{model}:\")\n",
    "        print(f\"  Accuracy: {metrics['Accuracy']:.4f}\")\n",
    "        print(f\"  Precision: {metrics['Precision']:.4f}\")\n",
    "    \n",
    "    best_model = max(results, key=lambda x: results[x]['Accuracy'])\n",
    "    best_accuracy = results[best_model]['Accuracy']\n",
    "    print(f\"\\nBest model for {dataset} Dataset: {best_model} (Accuracy: {best_accuracy:.4f})\")"
   ]
  }
 ],
 "metadata": {
  "kernelspec": {
   "display_name": "Python 3",
   "language": "python",
   "name": "python3"
  },
  "language_info": {
   "codemirror_mode": {
    "name": "ipython",
    "version": 3
   },
   "file_extension": ".py",
   "mimetype": "text/x-python",
   "name": "python",
   "nbconvert_exporter": "python",
   "pygments_lexer": "ipython3",
   "version": "3.11.9"
  }
 },
 "nbformat": 4,
 "nbformat_minor": 2
}
